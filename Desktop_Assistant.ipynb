{
 "cells": [
  {
   "cell_type": "code",
   "execution_count": 1,
   "id": "ce749980",
   "metadata": {},
   "outputs": [
    {
     "name": "stdout",
     "output_type": "stream",
     "text": [
      "Requirement already satisfied: SpeechRecognition in c:\\anaconda\\lib\\site-packages (3.9.0)\n",
      "Requirement already satisfied: requests>=2.26.0 in c:\\anaconda\\lib\\site-packages (from SpeechRecognition) (2.28.1)\n",
      "Requirement already satisfied: urllib3<1.27,>=1.21.1 in c:\\anaconda\\lib\\site-packages (from requests>=2.26.0->SpeechRecognition) (1.26.11)\n",
      "Requirement already satisfied: charset-normalizer<3,>=2 in c:\\anaconda\\lib\\site-packages (from requests>=2.26.0->SpeechRecognition) (2.0.4)\n",
      "Requirement already satisfied: idna<4,>=2.5 in c:\\anaconda\\lib\\site-packages (from requests>=2.26.0->SpeechRecognition) (3.3)\n",
      "Requirement already satisfied: certifi>=2017.4.17 in c:\\anaconda\\lib\\site-packages (from requests>=2.26.0->SpeechRecognition) (2022.9.14)\n",
      "Note: you may need to restart the kernel to use updated packages.\n"
     ]
    }
   ],
   "source": [
    "pip install SpeechRecognition"
   ]
  },
  {
   "cell_type": "code",
   "execution_count": 2,
   "id": "bae88a0d",
   "metadata": {},
   "outputs": [
    {
     "name": "stdout",
     "output_type": "stream",
     "text": [
      "Requirement already satisfied: pyttsx3 in c:\\anaconda\\lib\\site-packages (2.90)Note: you may need to restart the kernel to use updated packages.\n",
      "\n",
      "Requirement already satisfied: pywin32 in c:\\anaconda\\lib\\site-packages (from pyttsx3) (302)\n",
      "Requirement already satisfied: comtypes in c:\\anaconda\\lib\\site-packages (from pyttsx3) (1.1.10)\n",
      "Requirement already satisfied: pypiwin32 in c:\\anaconda\\lib\\site-packages (from pyttsx3) (223)\n"
     ]
    }
   ],
   "source": [
    "pip install pyttsx3"
   ]
  },
  {
   "cell_type": "code",
   "execution_count": 3,
   "id": "dc4930cc",
   "metadata": {},
   "outputs": [
    {
     "name": "stdout",
     "output_type": "stream",
     "text": [
      "Requirement already satisfied: datetime in c:\\anaconda\\lib\\site-packages (5.0)\n",
      "Requirement already satisfied: pytz in c:\\anaconda\\lib\\site-packages (from datetime) (2022.1)\n",
      "Requirement already satisfied: zope.interface in c:\\anaconda\\lib\\site-packages (from datetime) (5.4.0)\n",
      "Requirement already satisfied: setuptools in c:\\anaconda\\lib\\site-packages (from zope.interface->datetime) (63.4.1)\n",
      "Note: you may need to restart the kernel to use updated packages.\n"
     ]
    }
   ],
   "source": [
    "pip install datetime"
   ]
  },
  {
   "cell_type": "code",
   "execution_count": 4,
   "id": "0a7a3a3d",
   "metadata": {},
   "outputs": [
    {
     "name": "stdout",
     "output_type": "stream",
     "text": [
      "Requirement already satisfied: wikipedia in c:\\anaconda\\lib\\site-packages (1.4.0)\n",
      "Requirement already satisfied: requests<3.0.0,>=2.0.0 in c:\\anaconda\\lib\\site-packages (from wikipedia) (2.28.1)\n",
      "Requirement already satisfied: beautifulsoup4 in c:\\anaconda\\lib\\site-packages (from wikipedia) (4.11.1)\n",
      "Requirement already satisfied: idna<4,>=2.5 in c:\\anaconda\\lib\\site-packages (from requests<3.0.0,>=2.0.0->wikipedia) (3.3)\n",
      "Requirement already satisfied: certifi>=2017.4.17 in c:\\anaconda\\lib\\site-packages (from requests<3.0.0,>=2.0.0->wikipedia) (2022.9.14)\n",
      "Requirement already satisfied: charset-normalizer<3,>=2 in c:\\anaconda\\lib\\site-packages (from requests<3.0.0,>=2.0.0->wikipedia) (2.0.4)\n",
      "Requirement already satisfied: urllib3<1.27,>=1.21.1 in c:\\anaconda\\lib\\site-packages (from requests<3.0.0,>=2.0.0->wikipedia) (1.26.11)\n",
      "Requirement already satisfied: soupsieve>1.2 in c:\\anaconda\\lib\\site-packages (from beautifulsoup4->wikipedia) (2.3.1)\n",
      "Note: you may need to restart the kernel to use updated packages.\n"
     ]
    }
   ],
   "source": [
    "pip install wikipedia"
   ]
  },
  {
   "cell_type": "code",
   "execution_count": 5,
   "id": "8b5bb26f",
   "metadata": {},
   "outputs": [
    {
     "name": "stdout",
     "output_type": "stream",
     "text": [
      "Requirement already satisfied: pyjokes in c:\\anaconda\\lib\\site-packages (0.6.0)\n",
      "Note: you may need to restart the kernel to use updated packages.\n"
     ]
    }
   ],
   "source": [
    "pip install pyjokes"
   ]
  },
  {
   "cell_type": "code",
   "execution_count": 6,
   "id": "ac1b4a6f",
   "metadata": {},
   "outputs": [
    {
     "name": "stdout",
     "output_type": "stream",
     "text": [
      "Requirement already satisfied: winshell in c:\\anaconda\\lib\\site-packages (0.6)\n",
      "Note: you may need to restart the kernel to use updated packages.\n"
     ]
    }
   ],
   "source": [
    "pip install winshell"
   ]
  },
  {
   "cell_type": "code",
   "execution_count": 7,
   "id": "61e261d5",
   "metadata": {},
   "outputs": [],
   "source": [
    "import speech_recognition as sr\n",
    "import pyttsx3\n",
    "import datetime\n",
    "import wikipedia\n",
    "import pyjokes\n",
    "import winshell\n",
    "import subprocess\n",
    "import webbrowser\n",
    "import os\n",
    "import time"
   ]
  },
  {
   "cell_type": "code",
   "execution_count": null,
   "id": "e9dbecb5",
   "metadata": {},
   "outputs": [
    {
     "name": "stdout",
     "output_type": "stream",
     "text": [
      "Listening...\n",
      "Recognizing...\n",
      "result2:\n",
      "{   'alternative': [   {   'confidence': 0.88687539,\n",
      "                           'transcript': 'open battery settings'},\n",
      "                       {'transcript': 'Opan battery settings'},\n",
      "                       {'transcript': 'open battery setting'},\n",
      "                       {'transcript': 'augpen battery settings'},\n",
      "                       {'transcript': 'open batery settings'}],\n",
      "    'final': True}\n",
      "User said: open battery settings\n",
      "\n",
      "Listening...\n"
     ]
    }
   ],
   "source": [
    "engine = pyttsx3.init('sapi5')\n",
    "voices = engine.getProperty('voices')\n",
    "engine.setProperty('voice', voices[1].id)\n",
    "\n",
    "def speak(audio):\n",
    "    engine.say(audio)\n",
    "    engine.runAndWait()\n",
    "    \n",
    "def wishMe():\n",
    "    hour = int(datetime.datetime.now().hour)\n",
    "    if hour>=0 and hour<12:\n",
    "        speak(\"Good Morning!\")\n",
    "\n",
    "    elif hour>=12 and hour<18:\n",
    "        speak(\"Good Afternoon!\")   \n",
    "\n",
    "    else:\n",
    "        speak(\"Good Evening!\")\n",
    "\n",
    "    speak(\"I am your desktop assistant, How may I help you?\") \n",
    "    \n",
    "def takeCommand():\n",
    "    r = sr.Recognizer()\n",
    "    with sr.Microphone() as source:\n",
    "        print(\"Listening...\")\n",
    "        r.pause_threshold = 1\n",
    "        audio = r.listen(source)\n",
    "    try:\n",
    "        print(\"Recognizing...\")    \n",
    "        query = r.recognize_google(audio, language='en-in')\n",
    "        print(f\"User said: {query}\\n\")\n",
    "    except Exception as e:  \n",
    "        print(\"Say that again please...\")  \n",
    "        return \"None\"\n",
    "    return query\n",
    "\n",
    "if __name__ == \"__main__\":\n",
    "    wishMe()\n",
    "    while True:\n",
    "        query = takeCommand().lower()\n",
    "        \n",
    "        \n",
    "        # general commands\n",
    "        if 'how are you' in query:\n",
    "            speak(\"I am fine, Thank you\")\n",
    "            speak(\"How are you\")\n",
    "            \n",
    "        elif 'fine' in query or \"good\" in query:\n",
    "            speak(\"It's good to know that your fine\")\n",
    "            \n",
    "        elif 'my name' in query:\n",
    "            speak(\"Your name is Varshita Nalluri.\")\n",
    "            \n",
    "        elif 'your name' in query:\n",
    "            speak(\"My name is VarNa.\")\n",
    "            \n",
    "        elif \"who made you\" in query or \"who created you\" in query:\n",
    "            speak(\"I have been created by Varshita Nalluri.\")\n",
    "            \n",
    "        elif \"i love you\" in query:\n",
    "            speak(\"Thank you. I love myself too.\")\n",
    "            \n",
    "        elif \"will you be my girlfriend\" in query or \"will you be my boyfriend\" in query:  \n",
    "            speak(\"No thanks, I am happy being Single.\")\n",
    "            \n",
    "        elif 'is love' in query:\n",
    "            speak(\"It is 7th sense that destroy all other senses\")\n",
    "            \n",
    "        elif \"who am I\" in query:\n",
    "            speak(\"If you talk then definitely your human.\")\n",
    "            \n",
    "        elif \"who are you\" in query:\n",
    "            speak(\"I am Varshita's desktop assistant, VarNa\")\n",
    "            \n",
    "            \n",
    "        # time\n",
    "        elif 'time' in query:\n",
    "            strTime = datetime.datetime.now().strftime(\"%H:%M:%S\")    \n",
    "            speak(f\",The time is {strTime}\")\n",
    "            \n",
    "            \n",
    "        # joke\n",
    "        elif 'joke' in query:\n",
    "            speak(pyjokes.get_joke())\n",
    "            \n",
    "            \n",
    "        # search\n",
    "        elif 'search' in query or 'play' in query:\n",
    "            query = query.replace(\"search\", \"\")\n",
    "            query = query.replace(\"play\", \"\")         \n",
    "            webbrowser.open(query)\n",
    "            \n",
    "        elif 'what' in query:\n",
    "            speak('Searching...')\n",
    "            results = wikipedia.summary(query, sentences=2)\n",
    "            speak(\"According to Wikipedia\")\n",
    "            print(results)\n",
    "            speak(results) \n",
    "            \n",
    "            \n",
    "        # open websites\n",
    "        elif 'open google' in query:\n",
    "            speak(\"Here you go to Google\\n\")\n",
    "            webbrowser.open(\"google.com\")\n",
    "            \n",
    "        elif 'open youtube' in query:\n",
    "            speak(\"Here you go to Youtube\\n\")\n",
    "            webbrowser.open(\"youtube.com\")\n",
    "            \n",
    "        elif \"open map\" in query:\n",
    "            speak(\"Here you go to Maps\\n\")\n",
    "            webbrowser.open_new_tab(\"https://www.google.com/maps\")\n",
    "            \n",
    "        elif \"open gmail\" in query:\n",
    "            speak(\"Here you go to Gmail\\n\")\n",
    "            webbrowser.open_new_tab(\"gmail.com\")\n",
    "            \n",
    "            \n",
    "        # open system applications  \n",
    "        elif \"open camera\" in query:\n",
    "            speak(\"Opening Camera\")\n",
    "            os.system(\"start microsoft.windows.camera:\")\n",
    "            \n",
    "        elif \"open on screen keyboard\" in query:\n",
    "            speak(\"Opening on screen keyboard\")\n",
    "            os.system(\"osk\")\n",
    "            \n",
    "        elif \"open calculator\" in query:\n",
    "            speak(\"Opening Calculator\")\n",
    "            os.system(\"calc\")\n",
    "            \n",
    "        elif \"open notepad\" in query:\n",
    "            speak(\"Opening Notepad\")\n",
    "            os.system(\"notepad\")\n",
    "            \n",
    "        elif \"open terminal\" in query or \"open cmd\" in query:\n",
    "            speak(\"Opening Terminal\")\n",
    "            subprocess.call('cmd.exe')\n",
    "            \n",
    "        elif \"open control panel\" in query:\n",
    "            speak(\"Opening Control Panel\")\n",
    "            os.system(\"control panel\")\n",
    "            \n",
    "        elif \"open task manager\" in query:\n",
    "            speak(\"Opening Task Manager\")\n",
    "            os.system(\"taskmgr\")\n",
    "            \n",
    "        elif \"open microsoft store\" in query:\n",
    "            speak(\"Openning microsoft store\")\n",
    "            os.system(\"start ms-windows-store:\")\n",
    "            \n",
    "            \n",
    "        # system functions\n",
    "        elif \"lock my pc\" in query or \"lock my computer\" in query or \"lock my device\" in query:\n",
    "            speak(\"Locking\")\n",
    "            os.system(\"rundll32.exe user32.dll, LockWorkStation\")\n",
    "        \n",
    "        elif \"Restart my pc\" in query or \"Restart my computer\" in query or \"Restart my device\" in query:\n",
    "            speak(\"Restarting\")\n",
    "            subprocess.call([\"shutdown\", \"/r\"])\n",
    "            \n",
    "        elif \"sleep\" in query:\n",
    "            speak(\"Sleeping\")\n",
    "            subprocess.call(\"shutdown / h\")\n",
    " \n",
    "        elif 'shutdown system' in query:\n",
    "            speak(\"Hold On a Second! Your system is on its way to shut down\")\n",
    "            subprocess.call('shutdown / p /f')\n",
    "            \n",
    "        elif 'recycle bin' in query:\n",
    "            winshell.recycle_bin().empty(confirm = False, show_progress = False, sound = True)\n",
    "            speak(\"Recycle Bin Recycled\")\n",
    "            \n",
    "            \n",
    "        # opening system settings\n",
    "        elif \"turn on bluetooth\" in query or \"turn off bluetooth\" in query or \"open bluetooth settings\" in query:\n",
    "            speak(\"Opening bluetooth settings\")\n",
    "            os.system(\"start ms-settings:bluetooth\")\n",
    "            \n",
    "        elif \"turn on wi-fi\" in query or \"turn off wi-fi\" in query or \"open wi-fi settings\" in query:\n",
    "            speak(\"Opening Wi-Fi settings\")\n",
    "            os.system(\"start ms-settings:network-wifi\")\n",
    "            \n",
    "        elif \"open display settings\" in query:\n",
    "            speak(\"Opening display settings\")\n",
    "            os.system(\"start ms-settings:display\")\n",
    "            \n",
    "        elif \"turn on airplane mode\" in query or \"turn off airplane mode\" in query or \"open airplane mode settings\" in query: \n",
    "            speak(\"Opening airplane mode settings\")\n",
    "            os.system(\"start ms-settings:network-airplanemode\")\n",
    "            \n",
    "        elif \"open battery settings\" in query:\n",
    "            speak(\"Opening battery settings\")\n",
    "            os.system(\"start ms-settings:batterysaver\")\n",
    "            \n",
    "        elif \"open location settings\" in query:\n",
    "            speak(\"Opening location settings\")\n",
    "            os.system(\"start ms-settings:privacy-location\")\n",
    "        \n",
    "        elif \"search for updates\" in query or \"check for updates\" in query:\n",
    "            speak(\"Searching for updates\")\n",
    "            os.system(\"start ms-settings:windowsupdate\")\n",
    "            \n",
    "            \n",
    "        # exit\n",
    "        elif \"exit\" in query or \"quit\" in query or \"shut up\" in query or \"bye\" in query or \"goodbye\" in query:\n",
    "            speak(\"Sure, as your wish\")\n",
    "            break\n",
    "                \n",
    "        "
   ]
  },
  {
   "cell_type": "code",
   "execution_count": null,
   "id": "f9e1ae93",
   "metadata": {},
   "outputs": [],
   "source": []
  }
 ],
 "metadata": {
  "kernelspec": {
   "display_name": "Python 3 (ipykernel)",
   "language": "python",
   "name": "python3"
  },
  "language_info": {
   "codemirror_mode": {
    "name": "ipython",
    "version": 3
   },
   "file_extension": ".py",
   "mimetype": "text/x-python",
   "name": "python",
   "nbconvert_exporter": "python",
   "pygments_lexer": "ipython3",
   "version": "3.9.13"
  }
 },
 "nbformat": 4,
 "nbformat_minor": 5
}
